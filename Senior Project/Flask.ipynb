{
 "cells": [
  {
   "cell_type": "code",
   "execution_count": 1,
   "metadata": {},
   "outputs": [],
   "source": [
    "from flask import Flask\n",
    "from flask import render_template\n",
    "import json\n",
    "import os\n",
    "from skimage.metrics import structural_similarity\n",
    "import imutils\n",
    "import cv2\n",
    "import numpy as np\n",
    "import csv\n",
    "\n",
    "location = 'C:\\ABAC\\SENIOR PROJEC\\Flask'"
   ]
  },
  {
   "cell_type": "code",
   "execution_count": 2,
   "metadata": {},
   "outputs": [],
   "source": [
    "\n",
    "def compare_image(file1, file2):\n",
    "    \n",
    "        with anvil.media.TempFile(file1) as FN1:\n",
    "            image1 = cv2.imread(FN1)\n",
    "        with anvil.media.TempFile(file2) as FN2: \n",
    "            image2 = cv2.imread(FN2)\n",
    "            \n",
    "            \n",
    "        dim1 = image1.shape\n",
    "        dim2 = image2.shape\n",
    "        chk_dim = np.array_equal(dim1,dim2)\n",
    "        \n",
    "        ####Normalization###########\n",
    "        \n",
    "\n",
    "        \n",
    "        if (chk_dim is True):\n",
    "            \n",
    "            scale_percent = 35\n",
    "\n",
    "            width1 = int(image1.shape[1] * scale_percent / 100)\n",
    "            height1 = int(image1.shape[0] * scale_percent / 100)\n",
    "\n",
    "            width2 = int(image2.shape[1] * scale_percent / 100)\n",
    "            height2 = int(image2.shape[0] * scale_percent / 100)\n",
    "\n",
    "            dsize1 = (width1, height1)\n",
    "            dsize2 = (width2, height2)\n",
    "\n",
    "            R1 = cv2.resize(image1,dsize1)\n",
    "            R2 = cv2.resize(image2,dsize2)\n",
    "        \n",
    "        \n",
    "    ####convert to grayscale image###########\n",
    "    \n",
    "            grayR1 = cv2.cvtColor(R1, cv2.COLOR_BGR2GRAY)\n",
    "            grayR2 = cv2.cvtColor(R2, cv2.COLOR_BGR2GRAY)\n",
    "\n",
    "    ######find Similarity Index###########\n",
    "       \n",
    "\n",
    "            (score, diff) = structural_similarity(grayR1, grayR2, full=True)\n",
    "\n",
    "            diff = (diff * 255).astype(\"uint8\")##convert from floating point to unsigned int for openCV\n",
    "        \n",
    "            thresh = cv2.threshold(diff, 0, 255,cv2.THRESH_BINARY_INV | cv2.THRESH_OTSU)[1]\n",
    "            cnts = cv2.findContours(thresh.copy(), cv2.RETR_EXTERNAL,cv2.CHAIN_APPROX_SIMPLE)\n",
    "            cnts = imutils.grab_contours(cnts)\n",
    "        \n",
    "            location = 'C:/Users/geral/Documents/SeniorProjectTest/Compare'\n",
    "        \n",
    "          \n",
    "            \n",
    "    ##### loop over the contours compute the bounding box draw bounding box on diffrences #####\n",
    "            \n",
    "            for c in cnts:\n",
    "            \n",
    "                (x, y, w, h) = cv2.boundingRect(c)\n",
    "                cv2.rectangle(R1, (x, y), (x + w, y + h), (0, 0, 255), 2)\n",
    "                cv2.rectangle(R2, (x, y), (x + w, y + h), (0, 0, 255), 2)\n",
    "                coords1 = np.asarray(c)\n",
    "                coords2 = np.squeeze(coords1, axis = 1)\n",
    "                \n",
    "              \n",
    "            \n",
    "            #np.savetxt((os.path.join(location , 'Coordinates.csv')),coords2, fmt = '%.2f', delimiter =',')\n",
    "            \n",
    "         \n",
    "       \n",
    "            #cv2.imwrite(os.path.join(location , 'Floorplan1.png'), R1)\n",
    "            #cv2.imwrite(os.path.join(location , 'Floorplan2.png'), R2)\n",
    "            #cv2.imwrite(os.path.join(location , 'Difference.png'), diff)\n",
    "            #cv2.imwrite(os.path.join(location , 'Threshold.png'), thresh)\n",
    "        \n",
    "        \n",
    "            return(float(score))\n",
    "        \n",
    "            \n",
    "        else:\n",
    "            \n",
    "            error = 'PLEASE UPLOAD IMAGES WITH SAME DIMENSIONS'\n",
    "            return(error)\n",
    "            "
   ]
  },
  {
   "cell_type": "code",
   "execution_count": null,
   "metadata": {},
   "outputs": [
    {
     "name": "stdout",
     "output_type": "stream",
     "text": [
      " * Serving Flask app \"__main__\" (lazy loading)\n",
      " * Environment: production\n",
      "   WARNING: This is a development server. Do not use it in a production deployment.\n",
      "   Use a production WSGI server instead.\n",
      " * Debug mode: off\n"
     ]
    },
    {
     "name": "stderr",
     "output_type": "stream",
     "text": [
      " * Running on http://0.0.0.0:5001/ (Press CTRL+C to quit)\n"
     ]
    }
   ],
   "source": [
    "app = Flask(__name__)\n",
    "\n",
    "@app.route('/compare',methods=['POST'])\n",
    "\n",
    "def compare():\n",
    "     if request.method == 'POST':\n",
    "        # check if the post request has the file part\n",
    "        if ('file1' in request.files) and ('file2' in request.files):        \n",
    "            file1 = request.files.get('file1')\n",
    "            file2 = request.files.get('file2')                         \n",
    "            score = compare_image(file1, file2) \n",
    "            s_score = str(score)\n",
    "            resp_data = {\"score\": s_score } # convert numpy._bool to bool for json.dumps\n",
    "            return json.dumps(resp_data)   \n",
    "        \n",
    "app.run(host='0.0.0.0', port='5001')"
   ]
  },
  {
   "cell_type": "code",
   "execution_count": 2,
   "metadata": {},
   "outputs": [
    {
     "ename": "ModuleNotFoundError",
     "evalue": "No module named 'skimage.metrics'",
     "output_type": "error",
     "traceback": [
      "\u001b[1;31m---------------------------------------------------------------------------\u001b[0m",
      "\u001b[1;31mModuleNotFoundError\u001b[0m                       Traceback (most recent call last)",
      "\u001b[1;32m<ipython-input-1-f5ba09888e69>\u001b[0m in \u001b[0;36m<module>\u001b[1;34m\u001b[0m\n\u001b[0;32m      3\u001b[0m \u001b[1;32mimport\u001b[0m \u001b[0mjson\u001b[0m\u001b[1;33m\u001b[0m\u001b[1;33m\u001b[0m\u001b[0m\n\u001b[0;32m      4\u001b[0m \u001b[1;32mimport\u001b[0m \u001b[0mos\u001b[0m\u001b[1;33m\u001b[0m\u001b[1;33m\u001b[0m\u001b[0m\n\u001b[1;32m----> 5\u001b[1;33m \u001b[1;32mfrom\u001b[0m \u001b[0mskimage\u001b[0m\u001b[1;33m.\u001b[0m\u001b[0mmetrics\u001b[0m \u001b[1;32mimport\u001b[0m \u001b[0mstructural_similarity\u001b[0m\u001b[1;33m\u001b[0m\u001b[1;33m\u001b[0m\u001b[0m\n\u001b[0m\u001b[0;32m      6\u001b[0m \u001b[1;32mimport\u001b[0m \u001b[0mimutils\u001b[0m\u001b[1;33m\u001b[0m\u001b[1;33m\u001b[0m\u001b[0m\n\u001b[0;32m      7\u001b[0m \u001b[1;32mimport\u001b[0m \u001b[0mcv2\u001b[0m\u001b[1;33m\u001b[0m\u001b[1;33m\u001b[0m\u001b[0m\n",
      "\u001b[1;31mModuleNotFoundError\u001b[0m: No module named 'skimage.metrics'"
     ]
    }
   ],
   "source": [
    "%tb"
   ]
  },
  {
   "cell_type": "code",
   "execution_count": null,
   "metadata": {},
   "outputs": [],
   "source": []
  },
  {
   "cell_type": "code",
   "execution_count": null,
   "metadata": {},
   "outputs": [],
   "source": []
  }
 ],
 "metadata": {
  "kernelspec": {
   "display_name": "Python 3",
   "language": "python",
   "name": "python3"
  },
  "language_info": {
   "codemirror_mode": {
    "name": "ipython",
    "version": 3
   },
   "file_extension": ".py",
   "mimetype": "text/x-python",
   "name": "python",
   "nbconvert_exporter": "python",
   "pygments_lexer": "ipython3",
   "version": "3.7.7"
  }
 },
 "nbformat": 4,
 "nbformat_minor": 4
}
