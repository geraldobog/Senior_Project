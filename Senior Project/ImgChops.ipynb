{
 "cells": [
  {
   "cell_type": "code",
   "execution_count": 10,
   "metadata": {
    "scrolled": true
   },
   "outputs": [],
   "source": [
    "from PIL import Image, ImageChops, ImageDraw, ImageOps\n",
    "\n",
    "img1 = Image.open(r\"C:\\Users\\geral\\Documents\\FloorPlans\\set1_png\\test0.png\")\n",
    "img2 = Image.open(r\"C:\\Users\\geral\\Documents\\FloorPlans\\set1_png\\test98.png\")\n",
    "\n",
    "\n"
   ]
  },
  {
   "cell_type": "code",
   "execution_count": 11,
   "metadata": {},
   "outputs": [],
   "source": [
    "diff = ImageChops.difference(img1, img2).getbbox()\n",
    "draw = ImageDraw.Draw(img2)\n",
    "diff_list = list(diff) if diff else []\n",
    "draw.rectangle(diff_list, outline =\"red\")\n",
    "img2.convert('RGB').save('file3.jpg')"
   ]
  },
  {
   "cell_type": "code",
   "execution_count": null,
   "metadata": {},
   "outputs": [],
   "source": [
    "PIL.ImageOps.invert(image)\n"
   ]
  },
  {
   "cell_type": "code",
   "execution_count": null,
   "metadata": {},
   "outputs": [],
   "source": []
  },
  {
   "cell_type": "code",
   "execution_count": null,
   "metadata": {},
   "outputs": [],
   "source": []
  }
 ],
 "metadata": {
  "kernelspec": {
   "display_name": "Python 3",
   "language": "python",
   "name": "python3"
  },
  "language_info": {
   "codemirror_mode": {
    "name": "ipython",
    "version": 3
   },
   "file_extension": ".py",
   "mimetype": "text/x-python",
   "name": "python",
   "nbconvert_exporter": "python",
   "pygments_lexer": "ipython3",
   "version": "3.7.7"
  }
 },
 "nbformat": 4,
 "nbformat_minor": 4
}
